{
  "nbformat": 4,
  "nbformat_minor": 0,
  "metadata": {
    "colab": {
      "name": "Best_First_Search.ipynb",
      "provenance": []
    },
    "kernelspec": {
      "name": "python3",
      "display_name": "Python 3"
    },
    "language_info": {
      "name": "python"
    }
  },
  "cells": [
    {
      "cell_type": "code",
      "execution_count": null,
      "metadata": {
        "id": "o99wm5Jf0SQC"
      },
      "outputs": [],
      "source": [
        "from queue import PriorityQueue"
      ]
    },
    {
      "cell_type": "code",
      "source": [
        "no_vrtx = 5\n",
        "structure = [[]]*no_vrtx"
      ],
      "metadata": {
        "id": "YkfP1KVS0dil"
      },
      "execution_count": null,
      "outputs": []
    },
    {
      "cell_type": "code",
      "source": [
        "def best_fs(src, dest, no_vrtx):\n",
        "  # At start, considering all nodes unvisited \n",
        "  node_status = [False]*no_vrtx\n",
        "  q = PriorityQueue()\n",
        "  q.put((0, src))\n",
        "  while q.empty()==False:\n",
        "    show = q.get()[1] # 1 or 0 not sure\n",
        "    \n",
        "    print(show, end='->')\n",
        "    if show != dest:\n",
        "      for i, j in structure[show]:\n",
        "        if node_status[i] == False:\n",
        "          node_status[i] = True\n",
        "          q.put((j, i))\n",
        "\n",
        "    else:\n",
        "      break\n",
        "\n",
        "  print(\"Reached\")"
      ],
      "metadata": {
        "id": "1opjMwSG06fn"
      },
      "execution_count": null,
      "outputs": []
    },
    {
      "cell_type": "code",
      "source": [
        "def addedge(x, y, cost):\n",
        "  structure[x].append((y, cost))\n",
        "  structure[y].append((x, cost))\n",
        "addedge(0, 1, 5)\n",
        "addedge(0, 2, 1)\n",
        "addedge(2, 3, 2)\n",
        "addedge(1, 4, 1)\n",
        "addedge(3, 4, 2)\n",
        "source = 0\n",
        "target = 3\n",
        "best_fs(source, target, no_vrtx)"
      ],
      "metadata": {
        "id": "acg7NJwS2fwh",
        "colab": {
          "base_uri": "https://localhost:8080/"
        },
        "outputId": "c5e194e5-81fd-44ab-8cae-f14712da3227"
      },
      "execution_count": null,
      "outputs": [
        {
          "output_type": "stream",
          "name": "stdout",
          "text": [
            "0->2->4->3->Reached\n"
          ]
        }
      ]
    },
    {
      "cell_type": "code",
      "source": [
        ""
      ],
      "metadata": {
        "id": "oFV2EgsMUflw"
      },
      "execution_count": null,
      "outputs": []
    }
  ]
}