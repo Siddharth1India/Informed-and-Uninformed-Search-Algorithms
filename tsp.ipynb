{
  "nbformat": 4,
  "nbformat_minor": 0,
  "metadata": {
    "colab": {
      "name": "tsp.ipynb",
      "provenance": []
    },
    "kernelspec": {
      "name": "python3",
      "display_name": "Python 3"
    },
    "language_info": {
      "name": "python"
    }
  },
  "cells": [
    {
      "cell_type": "code",
      "execution_count": null,
      "metadata": {
        "id": "npYcW4kt9FFo"
      },
      "outputs": [],
      "source": [
        "# Note: TSP using Hill Climb may get stuck in local maximum which results in returning path which is not actually best\n",
        "# Local Maximum: a place where the current solution isn’t the best solution to the problem, but where none of the direct \n",
        "# neighbours of the current solution are better than the current solution.\n",
        "# To generate start situation\n",
        "import random"
      ]
    },
    {
      "cell_type": "code",
      "source": [
        "# Using this function to prepare random start situation \n",
        "def randomSolution(tsp):\n",
        "    cities = list(range(len(tsp)))\n",
        "    solution = []\n",
        "\n",
        "    for i in range(len(tsp)):\n",
        "        randomCity = cities[random.randint(0, len(cities) - 1)]\n",
        "        solution.append(randomCity)\n",
        "        cities.remove(randomCity)\n",
        "\n",
        "    return solution"
      ],
      "metadata": {
        "id": "uU0DQg_t9YSw"
      },
      "execution_count": null,
      "outputs": []
    },
    {
      "cell_type": "code",
      "source": [
        "# Calculating route length by looping through solutions and adding weight of path\n",
        "def routeLength(tsp, solution):\n",
        "    routeLength = 0\n",
        "    for i in range(len(solution)):\n",
        "        routeLength += tsp[solution[i - 1]][solution[i]]\n",
        "    return routeLength"
      ],
      "metadata": {
        "id": "bae02BHc9cip"
      },
      "execution_count": null,
      "outputs": []
    },
    {
      "cell_type": "code",
      "source": [
        "# Getting close situation by just swapping two neighbors and will be used to compare using getBestNeighbour\n",
        "def getNeighbours(solution):\n",
        "    neighbours = []\n",
        "    for i in range(len(solution)):\n",
        "        for j in range(i + 1, len(solution)):\n",
        "            neighbour = solution.copy()\n",
        "            neighbour[i] = solution[j]\n",
        "            neighbour[j] = solution[i]\n",
        "            neighbours.append(neighbour)\n",
        "    return neighbours"
      ],
      "metadata": {
        "id": "d63d7NPj9fDu"
      },
      "execution_count": null,
      "outputs": []
    },
    {
      "cell_type": "code",
      "source": [
        "# Getting best neighbour by comparing them to current state\n",
        "def getBestNeighbour(tsp, neighbours):\n",
        "    bestRouteLength = routeLength(tsp, neighbours[0])\n",
        "    bestNeighbour = neighbours[0]\n",
        "    for neighbour in neighbours:\n",
        "        currentRouteLength = routeLength(tsp, neighbour)\n",
        "        if currentRouteLength < bestRouteLength:\n",
        "            bestRouteLength = currentRouteLength\n",
        "            bestNeighbour = neighbour\n",
        "    return bestNeighbour, bestRouteLength"
      ],
      "metadata": {
        "id": "Z5HYVgX_9imm"
      },
      "execution_count": null,
      "outputs": []
    },
    {
      "cell_type": "code",
      "source": [
        "# Core function, Running loop and getting best path\n",
        "def hillClimbing(tsp):\n",
        "    currentSolution = randomSolution(tsp)\n",
        "    currentRouteLength = routeLength(tsp, currentSolution)\n",
        "    neighbours = getNeighbours(currentSolution)\n",
        "    bestNeighbour, bestNeighbourRouteLength = getBestNeighbour(tsp, neighbours)\n",
        "\n",
        "    while bestNeighbourRouteLength < currentRouteLength:\n",
        "        currentSolution = bestNeighbour\n",
        "        currentRouteLength = bestNeighbourRouteLength\n",
        "        neighbours = getNeighbours(currentSolution)\n",
        "        bestNeighbour, bestNeighbourRouteLength = getBestNeighbour(tsp, neighbours)\n",
        "\n",
        "    return currentSolution, currentRouteLength"
      ],
      "metadata": {
        "id": "9y1ExZ_F9lEi"
      },
      "execution_count": null,
      "outputs": []
    },
    {
      "cell_type": "code",
      "source": [
        "# Driver code\n",
        "def main():\n",
        "    tsp = [\n",
        "        [0, 400, 500, 300],\n",
        "        [400, 0, 300, 500],\n",
        "        [500, 300, 0, 400],\n",
        "        [300, 500, 400, 0]\n",
        "    ]\n",
        "\n",
        "    print(hillClimbing(tsp))\n",
        "\n",
        "if __name__ == \"__main__\":\n",
        "    main()"
      ],
      "metadata": {
        "colab": {
          "base_uri": "https://localhost:8080/"
        },
        "id": "AtFxAvNV9oH7",
        "outputId": "e6fc2b2e-077a-450d-d8bf-413184fb12e7"
      },
      "execution_count": null,
      "outputs": [
        {
          "output_type": "stream",
          "name": "stdout",
          "text": [
            "([1, 2, 3, 0], 1400)\n"
          ]
        }
      ]
    }
  ]
}