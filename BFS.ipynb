{
  "nbformat": 4,
  "nbformat_minor": 0,
  "metadata": {
    "colab": {
      "name": "BFS.ipynb",
      "provenance": [],
      "collapsed_sections": []
    },
    "kernelspec": {
      "name": "python3",
      "display_name": "Python 3"
    },
    "language_info": {
      "name": "python"
    }
  },
  "cells": [
    {
      "cell_type": "code",
      "source": [
        "visited_nodes = []\n",
        "current_que = []"
      ],
      "metadata": {
        "id": "GIyphJJh22w_"
      },
      "execution_count": null,
      "outputs": []
    },
    {
      "cell_type": "code",
      "execution_count": null,
      "metadata": {
        "id": "yAHIYOvDx3mV"
      },
      "outputs": [],
      "source": [
        "graph = {\n",
        "  'A' : ['B'],\n",
        "  'B' : ['C', 'E'],\n",
        "  'C' : ['B', 'D', 'E'],\n",
        "  'D' : ['C'],\n",
        "  'E' : ['B', 'C']\n",
        "}"
      ]
    },
    {
      "cell_type": "code",
      "source": [
        "# 3 args: Visited is list, graph is dictionary and init is start node for algo\n",
        "def bfs(visited, graph, init):\n",
        "  #initial node going in visited lst and appending same to queue\n",
        "  visited.append(init)\n",
        "  current_que.append(init)\n",
        "\n",
        "  #running loop till current_que is empty\n",
        "  while len(current_que)!=0:\n",
        "    #a storing value of element popped from current_que\n",
        "    a = current_que.pop(0)\n",
        "    #printing same \n",
        "    print(a, end=\" \")\n",
        "    # running for loop for all keys in graph\n",
        "    for i in graph:\n",
        "      # This 3 lines are easy\n",
        "      if i not in visited:\n",
        "        visited.append(i)\n",
        "        current_que.append(i)\n"
      ],
      "metadata": {
        "id": "OdDlfdSeyIVL"
      },
      "execution_count": null,
      "outputs": []
    },
    {
      "cell_type": "code",
      "source": [
        "bfs(visited_nodes, graph, 'A')"
      ],
      "metadata": {
        "colab": {
          "base_uri": "https://localhost:8080/"
        },
        "id": "dlWaz_GPzGao",
        "outputId": "1c643b02-a299-4229-ea87-1c88f50d1809"
      },
      "execution_count": null,
      "outputs": [
        {
          "output_type": "stream",
          "name": "stdout",
          "text": [
            "A B C D E "
          ]
        }
      ]
    }
  ]
}