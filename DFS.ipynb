{
  "nbformat": 4,
  "nbformat_minor": 0,
  "metadata": {
    "colab": {
      "name": "DFS.ipynb",
      "provenance": []
    },
    "kernelspec": {
      "name": "python3",
      "display_name": "Python 3"
    },
    "language_info": {
      "name": "python"
    }
  },
  "cells": [
    {
      "cell_type": "code",
      "execution_count": null,
      "metadata": {
        "id": "WMdqSvhG34zI"
      },
      "outputs": [],
      "source": [
        "graph = {\n",
        "  'A' : ['B', 'D'],\n",
        "  'B' : ['C', 'F'],\n",
        "  'C' : ['E', 'G', 'H'],\n",
        "  'G' : ['E', 'H'],\n",
        "  'E' : ['B', 'F'],\n",
        "  'F' : ['A'],\n",
        "  'D' : ['F'],\n",
        "  'H' : ['A']\n",
        "}"
      ]
    },
    {
      "cell_type": "code",
      "source": [
        "visited_nodes = []"
      ],
      "metadata": {
        "id": "B8_MdSl14Wlb"
      },
      "execution_count": null,
      "outputs": []
    },
    {
      "cell_type": "code",
      "source": [
        "def dfs(visited, graph, init):\n",
        "    if init not in visited:\n",
        "        print (init, end=\" \")\n",
        "        #Adding first node to lst (of course it is already visited :P)\n",
        "        visited.append(init)\n",
        "        #Just running loop over all neighbors of this node and using recursion, Hoping it will work xD\n",
        "        for i in graph[init]:\n",
        "            dfs(visited, graph, i)"
      ],
      "metadata": {
        "id": "EodyGPGU4YJt"
      },
      "execution_count": null,
      "outputs": []
    },
    {
      "cell_type": "code",
      "source": [
        "print('Is it even correct?')\n",
        "dfs(visited_nodes, graph, 'H')"
      ],
      "metadata": {
        "colab": {
          "base_uri": "https://localhost:8080/"
        },
        "id": "d9yMBg7m4ac8",
        "outputId": "ee04cd28-4289-4633-fcbd-5b07aaa6e614"
      },
      "execution_count": null,
      "outputs": [
        {
          "output_type": "stream",
          "name": "stdout",
          "text": [
            "Is it even correct?\n",
            "H A B C E F G D "
          ]
        }
      ]
    }
  ]
}