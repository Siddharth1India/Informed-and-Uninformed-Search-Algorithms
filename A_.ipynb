{
  "nbformat": 4,
  "nbformat_minor": 0,
  "metadata": {
    "colab": {
      "name": "A*.ipynb",
      "provenance": [],
      "collapsed_sections": []
    },
    "kernelspec": {
      "name": "python3",
      "display_name": "Python 3"
    },
    "language_info": {
      "name": "python"
    }
  },
  "cells": [
    {
      "cell_type": "code",
      "execution_count": null,
      "metadata": {
        "id": "B3X81fObrUga"
      },
      "outputs": [],
      "source": [
        "import numpy as np"
      ]
    },
    {
      "cell_type": "code",
      "source": [
        "graph = [[0,9,0,0,1],[9,0,12,6,1],[0,12,0,5,0],[0,6,5,0,0],[1,1,0,0,0]]\n",
        "\n",
        "hValue = [10,9,0,5,7]\n",
        "\n",
        "queue = []\n",
        "\n",
        "def pathCost(path):\n",
        "  cost = 0\n",
        "  for i in range(len(path)):\n",
        "    cost += graph[path[i-1]][path[i]]\n",
        "  return cost\n",
        "\n",
        "def hCost(node):\n",
        "  return hValue[node]\n",
        "\n",
        "def priority(arr):\n",
        "  return pathCost(arr) + hCost(arr[-1])\n",
        "\n",
        "def algorithm(e_node, queue, graph):\n",
        "  nodeArr = queue.pop(0)\n",
        "  if nodeArr[-1] == e_node:\n",
        "    return nodeArr\n",
        "  else:\n",
        "    lastNode = nodeArr[-1]\n",
        "    for i in range(len(graph)):\n",
        "      if graph[lastNode][i] != 0:\n",
        "        if not(i in nodeArr):\n",
        "          nodeArr.append(i)\n",
        "          queue.append(nodeArr.copy())\n",
        "          nodeArr.pop()\n",
        "    queue.sort(key=priority)\n",
        "    return algorithm(e_node, queue, graph)\n",
        "   \n",
        "    \n",
        "def aStartAlgo(s_node, e_node, queue, graph):\n",
        "  queue.append([s_node])\n",
        "  result = algorithm(e_node, queue, graph)\n",
        "  return result\n",
        "\n",
        "aStartAlgo(4, 2, queue, graph)\n"
      ],
      "metadata": {
        "colab": {
          "base_uri": "https://localhost:8080/"
        },
        "id": "-ib6_JVdL6ls",
        "outputId": "984bb9d1-8ca4-4423-950f-6a0894caa3a8"
      },
      "execution_count": null,
      "outputs": [
        {
          "output_type": "execute_result",
          "data": {
            "text/plain": [
              "[4, 1, 3, 2]"
            ]
          },
          "metadata": {},
          "execution_count": 1
        }
      ]
    }
  ]
}